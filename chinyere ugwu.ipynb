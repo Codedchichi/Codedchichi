{
 "cells": [
  {
   "cell_type": "markdown",
   "id": "5b45cfb2",
   "metadata": {},
   "source": [
    "1) Print all documents of a list using for loop"
   ]
  },
  {
   "cell_type": "code",
   "execution_count": 4,
   "id": "cb702e4a",
   "metadata": {},
   "outputs": [
    {
     "name": "stdout",
     "output_type": "stream",
     "text": [
      "2\n",
      "4\n",
      "6\n",
      "8\n",
      "10\n"
     ]
    }
   ],
   "source": [
    "my_list =[2,4,6,8,10]\n",
    "for x in my_list:\n",
    "    print(x)"
   ]
  },
  {
   "cell_type": "markdown",
   "id": "1b35d6cf",
   "metadata": {},
   "source": [
    "2) A company decided to give bonus of 5% to employee if his/her service is more than 5years. Ask users for their salary and years of service and print out the net bonus amount"
   ]
  },
  {
   "cell_type": "code",
   "execution_count": 18,
   "id": "1084337a",
   "metadata": {},
   "outputs": [
    {
     "name": "stdout",
     "output_type": "stream",
     "text": [
      "not_qualified\n",
      "10000\n"
     ]
    }
   ],
   "source": [
    "sal = 200000\n",
    "bonus = 0.05\n",
    "x = 5\n",
    "netbonus = 0.05*200000\n",
    "\n",
    "if x == 5:\n",
    "    print('not_qualified')\n",
    "\n",
    "else:\n",
    "    print('still_not_qualified')\n",
    "    \n",
    "    \n",
    "if x > 5:\n",
    "    print('qualified')\n",
    "    \n",
    "else:\n",
    "    print(10000)\n",
    "    \n",
    "    \n",
    "    \n"
   ]
  },
  {
   "cell_type": "markdown",
   "id": "d6c6ff88",
   "metadata": {},
   "source": [
    "3) Take input of age of 3 people by users and determine thenmaximun and minimum"
   ]
  },
  {
   "cell_type": "code",
   "execution_count": 12,
   "id": "843e9a74",
   "metadata": {},
   "outputs": [
    {
     "name": "stdout",
     "output_type": "stream",
     "text": [
      "97\n",
      "12\n"
     ]
    }
   ],
   "source": [
    " age_users = [12, 97,32]\n",
    "print(max(age_users))\n",
    "print(min(age_users))"
   ]
  },
  {
   "cell_type": "markdown",
   "id": "d91b3582",
   "metadata": {},
   "source": [
    "4) A school has the following rules for grading system:\n",
    "a. Below 25 - F\n",
    "b. 25 to 45 - E\n",
    "c. 45 to 50 - D\n",
    "e. 50 to 60 - C\n",
    "f. 60 to 80 - B\n",
    "g. Above 80 - A"
   ]
  },
  {
   "cell_type": "markdown",
   "id": "672119be",
   "metadata": {},
   "source": [
    "5) Ask users to enter marks and print the corresponding grade\n"
   ]
  },
  {
   "cell_type": "code",
   "execution_count": 4,
   "id": "786e5b62",
   "metadata": {},
   "outputs": [
    {
     "name": "stdout",
     "output_type": "stream",
     "text": [
      "your grade is A\n"
     ]
    }
   ],
   "source": [
    "mark1 = 23\n",
    "mark2 = 85\n",
    "mark3 = 91\n",
    "mark4 = 55\n",
    "mark5 = 60\n",
    "\n",
    "if mark1 == 25: \n",
    "    print('your grade is F')\n",
    "elif mark2 > 25 and mark2 == 45:\n",
    "    print('your grade is E')\n",
    "elif mark3 > 45 and mark3 == 50:\n",
    "    print('your grade is D')\n",
    "elif mark4 > 50 and mark4 == 60:\n",
    "    print('your grade is C')\n",
    "elif mark5 > 60 and mark5 == 80:\n",
    "    print('your grade is B')\n",
    "else:\n",
    "    print('your grade is A')\n",
    "    "
   ]
  },
  {
   "cell_type": "markdown",
   "id": "36ff997e",
   "metadata": {},
   "source": [
    "write a python script to merge 2 dictionaries\n"
   ]
  },
  {
   "cell_type": "code",
   "execution_count": 11,
   "id": "1c035fbc",
   "metadata": {},
   "outputs": [
    {
     "name": "stdout",
     "output_type": "stream",
     "text": [
      "{'state': ('ondo', 'kwara', 'kebbi'), 'region': ('west', 'north', 'south'), 'colors': ('green', 'yellow', 'red'), 'animals': ('dog', 'cat', 'mouse')}\n"
     ]
    }
   ],
   "source": [
    "my_dict = {'state': ('ondo', 'kwara', 'kebbi'), 'region': ('west', 'north', 'south')}\n",
    "\n",
    "dict_1 = {'colors': ('green', 'yellow', 'red'), 'animals': ('dog', 'cat', 'mouse')}\n",
    "\n",
    "my_dict.update(dict_1)\n",
    "\n",
    "print(my_dict)\n",
    "\n"
   ]
  },
  {
   "cell_type": "code",
   "execution_count": 20,
   "id": "2447acab",
   "metadata": {},
   "outputs": [
    {
     "name": "stdout",
     "output_type": "stream",
     "text": [
      "{'state': ('ondo', 'kwara', 'kebbi'), 'region': ('west', 'north', 'south'), 'colors': ('green', 'yellow', 'red'), 'animals': ('dog', 'cat', 'mouse')}\n"
     ]
    }
   ],
   "source": [
    "my_dict = {'state': ('ondo', 'kwara', 'kebbi'), 'region': ('west', 'north', 'south')}\n",
    "\n",
    "dict_1 = {'colors': ('green', 'yellow', 'red'), 'animals': ('dog', 'cat', 'mouse')}\n",
    "\n",
    "my_dict['colors'] = ('green', 'yellow', 'red')\n",
    "my_dict['animals'] = ('dog', 'cat', 'mouse')\n",
    "\n",
    "print(my_dict)"
   ]
  },
  {
   "cell_type": "markdown",
   "id": "da1eb0e9",
   "metadata": {},
   "source": [
    "7) write a python program to get the largest numberfrom a list "
   ]
  },
  {
   "cell_type": "code",
   "execution_count": 30,
   "id": "ea7290c7",
   "metadata": {},
   "outputs": [
    {
     "name": "stdout",
     "output_type": "stream",
     "text": [
      "100\n"
     ]
    }
   ],
   "source": [
    "list =[8,9,100,79,66,54]\n",
    "print(max(list))"
   ]
  },
  {
   "cell_type": "markdown",
   "id": "9726cfc3",
   "metadata": {},
   "source": [
    "8) write a python program to remove a key from dictionary"
   ]
  },
  {
   "cell_type": "code",
   "execution_count": 14,
   "id": "354ccf79",
   "metadata": {},
   "outputs": [
    {
     "name": "stdout",
     "output_type": "stream",
     "text": [
      "{'state': ('ondo', 'kwara', 'kebbi')}\n"
     ]
    }
   ],
   "source": [
    "my_dict = {'state': ('ondo', 'kwara', 'kebbi'), 'region': ('west', 'north', 'south')}\n",
    "del my_dict['region']\n",
    "\n",
    "print(my_dict)"
   ]
  },
  {
   "cell_type": "code",
   "execution_count": null,
   "id": "376804e8",
   "metadata": {},
   "outputs": [],
   "source": []
  },
  {
   "cell_type": "code",
   "execution_count": null,
   "id": "8fd83c69",
   "metadata": {},
   "outputs": [],
   "source": []
  },
  {
   "cell_type": "code",
   "execution_count": null,
   "id": "a4754bf0",
   "metadata": {},
   "outputs": [],
   "source": []
  },
  {
   "cell_type": "code",
   "execution_count": null,
   "id": "e2f052a1",
   "metadata": {},
   "outputs": [],
   "source": [
    "\n"
   ]
  }
 ],
 "metadata": {
  "kernelspec": {
   "display_name": "Python 3 (ipykernel)",
   "language": "python",
   "name": "python3"
  },
  "language_info": {
   "codemirror_mode": {
    "name": "ipython",
    "version": 3
   },
   "file_extension": ".py",
   "mimetype": "text/x-python",
   "name": "python",
   "nbconvert_exporter": "python",
   "pygments_lexer": "ipython3",
   "version": "3.9.12"
  }
 },
 "nbformat": 4,
 "nbformat_minor": 5
}
